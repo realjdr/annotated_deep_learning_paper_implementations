{
  "cells": [
    {
      "cell_type": "markdown",
      "metadata": {
        "id": "AYV_dMVDxyc2"
      },
      "source": [
        "[![Github](https://img.shields.io/github/stars/labmlai/annotated_deep_learning_paper_implementations?style=social)](https://github.com/labmlai/annotated_deep_learning_paper_implementations)\n",
        "[![Open In Colab](https://colab.research.google.com/assets/colab-badge.svg)](https://colab.research.google.com/github/labmlai/annotated_deep_learning_paper_implementations/blob/master/labml_nn/rl/dqn/experiment.ipynb)                    \n",
        "\n",
        "## Deep Q Networks (DQN)\n",
        "\n",
        "This is an experiment training an agent to play Atari Breakout game using Deep Q Networks (DQN)"
      ]
    },
    {
      "cell_type": "markdown",
      "metadata": {
        "id": "AahG_i2y5tY9"
      },
      "source": [
        "Install the `labml-nn` package"
      ]
    },
    {
      "cell_type": "code",
      "execution_count": 8,
      "metadata": {
        "colab": {
          "base_uri": "https://localhost:8080/"
        },
        "id": "ZCzmCrAIVg0L",
        "outputId": "558dcb61-95dd-4587-af91-3951adb56ab9"
      },
      "outputs": [
        {
          "output_type": "stream",
          "name": "stdout",
          "text": [
            "Looking in indexes: https://pypi.org/simple, https://us-python.pkg.dev/colab-wheels/public/simple/\n",
            "Requirement already satisfied: labml-nn in /usr/local/lib/python3.10/dist-packages (0.4.133)\n",
            "Requirement already satisfied: labml>=0.4.158 in /usr/local/lib/python3.10/dist-packages (from labml-nn) (0.4.162)\n",
            "Requirement already satisfied: labml-helpers>=0.4.89 in /usr/local/lib/python3.10/dist-packages (from labml-nn) (0.4.89)\n",
            "Requirement already satisfied: torch in /usr/local/lib/python3.10/dist-packages (from labml-nn) (2.0.1+cu118)\n",
            "Requirement already satisfied: torchtext in /usr/local/lib/python3.10/dist-packages (from labml-nn) (0.15.2)\n",
            "Requirement already satisfied: torchvision in /usr/local/lib/python3.10/dist-packages (from labml-nn) (0.15.2+cu118)\n",
            "Requirement already satisfied: einops in /usr/local/lib/python3.10/dist-packages (from labml-nn) (0.6.1)\n",
            "Requirement already satisfied: numpy in /usr/local/lib/python3.10/dist-packages (from labml-nn) (1.22.4)\n",
            "Requirement already satisfied: fairscale in /usr/local/lib/python3.10/dist-packages (from labml-nn) (0.4.13)\n",
            "Requirement already satisfied: gitpython in /usr/local/lib/python3.10/dist-packages (from labml>=0.4.158->labml-nn) (3.1.31)\n",
            "Requirement already satisfied: pyyaml in /usr/local/lib/python3.10/dist-packages (from labml>=0.4.158->labml-nn) (6.0)\n",
            "Requirement already satisfied: filelock in /usr/local/lib/python3.10/dist-packages (from torch->labml-nn) (3.12.0)\n",
            "Requirement already satisfied: typing-extensions in /usr/local/lib/python3.10/dist-packages (from torch->labml-nn) (4.5.0)\n",
            "Requirement already satisfied: sympy in /usr/local/lib/python3.10/dist-packages (from torch->labml-nn) (1.11.1)\n",
            "Requirement already satisfied: networkx in /usr/local/lib/python3.10/dist-packages (from torch->labml-nn) (3.1)\n",
            "Requirement already satisfied: jinja2 in /usr/local/lib/python3.10/dist-packages (from torch->labml-nn) (3.1.2)\n",
            "Requirement already satisfied: triton==2.0.0 in /usr/local/lib/python3.10/dist-packages (from torch->labml-nn) (2.0.0)\n",
            "Requirement already satisfied: cmake in /usr/local/lib/python3.10/dist-packages (from triton==2.0.0->torch->labml-nn) (3.25.2)\n",
            "Requirement already satisfied: lit in /usr/local/lib/python3.10/dist-packages (from triton==2.0.0->torch->labml-nn) (16.0.5)\n",
            "Requirement already satisfied: tqdm in /usr/local/lib/python3.10/dist-packages (from torchtext->labml-nn) (4.65.0)\n",
            "Requirement already satisfied: requests in /usr/local/lib/python3.10/dist-packages (from torchtext->labml-nn) (2.27.1)\n",
            "Requirement already satisfied: torchdata==0.6.1 in /usr/local/lib/python3.10/dist-packages (from torchtext->labml-nn) (0.6.1)\n",
            "Requirement already satisfied: urllib3>=1.25 in /usr/local/lib/python3.10/dist-packages (from torchdata==0.6.1->torchtext->labml-nn) (1.26.15)\n",
            "Requirement already satisfied: pillow!=8.3.*,>=5.3.0 in /usr/local/lib/python3.10/dist-packages (from torchvision->labml-nn) (8.4.0)\n",
            "Requirement already satisfied: gitdb<5,>=4.0.1 in /usr/local/lib/python3.10/dist-packages (from gitpython->labml>=0.4.158->labml-nn) (4.0.10)\n",
            "Requirement already satisfied: MarkupSafe>=2.0 in /usr/local/lib/python3.10/dist-packages (from jinja2->torch->labml-nn) (2.1.2)\n",
            "Requirement already satisfied: certifi>=2017.4.17 in /usr/local/lib/python3.10/dist-packages (from requests->torchtext->labml-nn) (2022.12.7)\n",
            "Requirement already satisfied: charset-normalizer~=2.0.0 in /usr/local/lib/python3.10/dist-packages (from requests->torchtext->labml-nn) (2.0.12)\n",
            "Requirement already satisfied: idna<4,>=2.5 in /usr/local/lib/python3.10/dist-packages (from requests->torchtext->labml-nn) (3.4)\n",
            "Requirement already satisfied: mpmath>=0.19 in /usr/local/lib/python3.10/dist-packages (from sympy->torch->labml-nn) (1.3.0)\n",
            "Requirement already satisfied: smmap<6,>=3.0.1 in /usr/local/lib/python3.10/dist-packages (from gitdb<5,>=4.0.1->gitpython->labml>=0.4.158->labml-nn) (5.0.0)\n"
          ]
        }
      ],
      "source": [
        "!pip install labml-nn"
      ]
    },
    {
      "cell_type": "markdown",
      "metadata": {
        "id": "3-G5kplRFmsO"
      },
      "source": [
        "Add Atari ROMs (Doesn't work without this in Google Colab)"
      ]
    },
    {
      "cell_type": "code",
      "execution_count": 9,
      "metadata": {
        "colab": {
          "base_uri": "https://localhost:8080/"
        },
        "id": "SByhklD1FlSj",
        "outputId": "3f860a56-e5d0-4c24-a188-fc02d07fa22e"
      },
      "outputs": [
        {
          "output_type": "stream",
          "name": "stdout",
          "text": [
            "--2023-06-05 11:00:43--  http://www.atarimania.com/roms/Roms.rar\n",
            "Resolving www.atarimania.com (www.atarimania.com)... 195.154.81.199\n",
            "Connecting to www.atarimania.com (www.atarimania.com)|195.154.81.199|:80... connected.\n",
            "HTTP request sent, awaiting response... 200 OK\n",
            "Length: 19612325 (19M) [application/x-rar-compressed]\n",
            "Saving to: ‘Roms.rar.1’\n",
            "\n",
            "Roms.rar.1          100%[===================>]  18.70M   309KB/s    in 63s     \n",
            "\n",
            "2023-06-05 11:01:47 (303 KB/s) - ‘Roms.rar.1’ saved [19612325/19612325]\n",
            "\n",
            "mkdir: cannot create directory ‘/content/ROM/’: File exists\n",
            "\n",
            "UNRAR 5.61 beta 1 freeware      Copyright (c) 1993-2018 Alexander Roshal\n",
            "\n",
            "\n",
            "Extracting from /content/Roms.rar\n",
            "\n",
            "\n",
            "Would you like to replace the existing file /content/ROM/128 in 1 Game Select ROM (Unknown) ~.bin\n",
            "  2048 bytes, modified on 2017-11-21 00:54\n",
            "with a new one\n",
            "  2048 bytes, modified on 2017-11-21 00:54\n",
            "\n",
            "[Y]es, [N]o, [A]ll, n[E]ver, [R]ename, [Q]uit \n",
            "User break\n",
            "\n",
            "User break\n"
          ]
        }
      ],
      "source": [
        "! wget http://www.atarimania.com/roms/Roms.rar\n",
        "! mkdir /content/ROM/\n",
        "! unrar e /content/Roms.rar /content/ROM/\n",
        "\n",
        "# when greeted with [Y] for Yes [N] for No hit pause on this codebox "
      ]
    },
    {
      "cell_type": "markdown",
      "metadata": {
        "id": "SE2VUQ6L5zxI"
      },
      "source": [
        "Imports"
      ]
    },
    {
      "cell_type": "code",
      "source": [
        "! python -m atari_py.import_roms /content/ROM/"
      ],
      "metadata": {
        "colab": {
          "base_uri": "https://localhost:8080/"
        },
        "id": "U5YLzyh1MTnR",
        "outputId": "0f8a2d28-5f00-4c1b-e8f8-94e5b8d77490"
      },
      "execution_count": 10,
      "outputs": [
        {
          "output_type": "stream",
          "name": "stdout",
          "text": [
            "/usr/bin/python3: Error while finding module specification for 'atari_py.import_roms' (ModuleNotFoundError: No module named 'atari_py')\n"
          ]
        }
      ]
    },
    {
      "cell_type": "code",
      "execution_count": 11,
      "metadata": {
        "id": "0hJXx_g0wS2C"
      },
      "outputs": [],
      "source": [
        "from labml import experiment\n",
        "from labml.configs import FloatDynamicHyperParam\n",
        "from labml_nn.rl.dqn.experiment import Trainer"
      ]
    },
    {
      "cell_type": "markdown",
      "metadata": {
        "id": "Lpggo0wM6qb-"
      },
      "source": [
        "Create an experiment"
      ]
    },
    {
      "cell_type": "code",
      "execution_count": 12,
      "metadata": {
        "id": "bFcr9k-l4cAg"
      },
      "outputs": [],
      "source": [
        "experiment.create(name=\"dqn\")"
      ]
    },
    {
      "cell_type": "markdown",
      "metadata": {
        "id": "Hw6uVl1_GaPv"
      },
      "source": [
        "### Configurations\n",
        "\n",
        "`FloatDynamicHyperParam` is a dynamic hyper-parameter\n",
        "that you can change while the experiment is running."
      ]
    },
    {
      "cell_type": "code",
      "execution_count": 13,
      "metadata": {
        "id": "L8bUtLD6GksC"
      },
      "outputs": [],
      "source": [
        "configs = {\n",
        "    # Number of updates\n",
        "    'updates': 1_000_000,\n",
        "    # Number of epochs to train the model with sampled data.\n",
        "    'epochs': 8,\n",
        "    # Number of worker processes\n",
        "    'n_workers': 8,\n",
        "    # Number of steps to run on each process for a single update\n",
        "    'worker_steps': 4,\n",
        "    # Mini batch size\n",
        "    'mini_batch_size': 32,\n",
        "    # Target model updating interval\n",
        "    'update_target_model': 250,\n",
        "    # Learning rate.\n",
        "    'learning_rate': FloatDynamicHyperParam(1e-4, (0, 1e-3)),\n",
        "}"
      ]
    },
    {
      "cell_type": "markdown",
      "metadata": {
        "id": "zn7nSEuWK4Ke"
      },
      "source": [
        "Set experiment configurations"
      ]
    },
    {
      "cell_type": "code",
      "execution_count": 14,
      "metadata": {
        "colab": {
          "base_uri": "https://localhost:8080/",
          "height": 38
        },
        "id": "FQo5f1HlK4Ke",
        "outputId": "1863b960-8d8d-4f8d-9cb1-c4f8d472cbda"
      },
      "outputs": [
        {
          "output_type": "display_data",
          "data": {
            "text/plain": [
              "<IPython.core.display.HTML object>"
            ],
            "text/html": [
              "<pre style=\"overflow-x: scroll;\"></pre>"
            ]
          },
          "metadata": {}
        }
      ],
      "source": [
        "experiment.configs(configs)"
      ]
    },
    {
      "cell_type": "markdown",
      "metadata": {
        "id": "qYQCFt_JYsjd"
      },
      "source": [
        "Create trainer"
      ]
    },
    {
      "cell_type": "code",
      "execution_count": 15,
      "metadata": {
        "id": "8LB7XVViYuPG",
        "colab": {
          "base_uri": "https://localhost:8080/",
          "height": 1000
        },
        "outputId": "e56efb90-5501-43c1-abb7-7dd2cacd3ecc"
      },
      "outputs": [
        {
          "output_type": "stream",
          "name": "stderr",
          "text": [
            "Process Process-9:\n",
            "Traceback (most recent call last):\n",
            "Process Process-10:\n",
            "  File \"/usr/lib/python3.10/multiprocessing/process.py\", line 314, in _bootstrap\n",
            "    self.run()\n",
            "Traceback (most recent call last):\n",
            "  File \"/usr/lib/python3.10/multiprocessing/process.py\", line 108, in run\n",
            "    self._target(*self._args, **self._kwargs)\n",
            "  File \"/usr/lib/python3.10/multiprocessing/process.py\", line 314, in _bootstrap\n",
            "    self.run()\n",
            "  File \"/usr/lib/python3.10/multiprocessing/process.py\", line 108, in run\n",
            "    self._target(*self._args, **self._kwargs)\n",
            "  File \"/usr/local/lib/python3.10/dist-packages/labml_nn/rl/game.py\", line 143, in worker_process\n",
            "    game = Game(seed)\n",
            "  File \"/usr/local/lib/python3.10/dist-packages/labml_nn/rl/game.py\", line 143, in worker_process\n",
            "    game = Game(seed)\n",
            "  File \"/usr/local/lib/python3.10/dist-packages/labml_nn/rl/game.py\", line 40, in __init__\n",
            "    self.env = gym.make('BreakoutNoFrameskip-v4')\n",
            "Process Process-11:\n",
            "  File \"/usr/local/lib/python3.10/dist-packages/gym/envs/registration.py\", line 607, in make\n",
            "    _check_version_exists(ns, name, version)\n",
            "  File \"/usr/local/lib/python3.10/dist-packages/labml_nn/rl/game.py\", line 40, in __init__\n",
            "    self.env = gym.make('BreakoutNoFrameskip-v4')\n",
            "Traceback (most recent call last):\n",
            "  File \"/usr/local/lib/python3.10/dist-packages/gym/envs/registration.py\", line 607, in make\n",
            "    _check_version_exists(ns, name, version)\n",
            "  File \"/usr/lib/python3.10/multiprocessing/process.py\", line 314, in _bootstrap\n",
            "    self.run()\n",
            "  File \"/usr/local/lib/python3.10/dist-packages/gym/envs/registration.py\", line 234, in _check_version_exists\n",
            "    _check_name_exists(ns, name)\n",
            "  File \"/usr/lib/python3.10/multiprocessing/process.py\", line 108, in run\n",
            "    self._target(*self._args, **self._kwargs)\n",
            "  File \"/usr/local/lib/python3.10/dist-packages/gym/envs/registration.py\", line 212, in _check_name_exists\n",
            "    raise error.NameNotFound(\n",
            "Process Process-12:\n",
            "  File \"/usr/local/lib/python3.10/dist-packages/gym/envs/registration.py\", line 234, in _check_version_exists\n",
            "    _check_name_exists(ns, name)\n",
            "  File \"/usr/local/lib/python3.10/dist-packages/labml_nn/rl/game.py\", line 143, in worker_process\n",
            "    game = Game(seed)\n",
            "gym.error.NameNotFound: Environment BreakoutNoFrameskip doesn't exist. \n",
            "  File \"/usr/local/lib/python3.10/dist-packages/gym/envs/registration.py\", line 212, in _check_name_exists\n",
            "    raise error.NameNotFound(\n",
            "gym.error.NameNotFound: Environment BreakoutNoFrameskip doesn't exist. \n",
            "Traceback (most recent call last):\n",
            "  File \"/usr/local/lib/python3.10/dist-packages/labml_nn/rl/game.py\", line 40, in __init__\n",
            "    self.env = gym.make('BreakoutNoFrameskip-v4')\n",
            "  File \"/usr/local/lib/python3.10/dist-packages/gym/envs/registration.py\", line 607, in make\n",
            "    _check_version_exists(ns, name, version)\n",
            "  File \"/usr/lib/python3.10/multiprocessing/process.py\", line 314, in _bootstrap\n",
            "    self.run()\n",
            "  File \"/usr/local/lib/python3.10/dist-packages/gym/envs/registration.py\", line 234, in _check_version_exists\n",
            "    _check_name_exists(ns, name)\n",
            "  File \"/usr/lib/python3.10/multiprocessing/process.py\", line 108, in run\n",
            "    self._target(*self._args, **self._kwargs)\n",
            "  File \"/usr/local/lib/python3.10/dist-packages/gym/envs/registration.py\", line 212, in _check_name_exists\n",
            "    raise error.NameNotFound(\n",
            "  File \"/usr/local/lib/python3.10/dist-packages/labml_nn/rl/game.py\", line 143, in worker_process\n",
            "    game = Game(seed)\n",
            "gym.error.NameNotFound: Environment BreakoutNoFrameskip doesn't exist. \n",
            "  File \"/usr/local/lib/python3.10/dist-packages/labml_nn/rl/game.py\", line 40, in __init__\n",
            "    self.env = gym.make('BreakoutNoFrameskip-v4')\n",
            "  File \"/usr/local/lib/python3.10/dist-packages/gym/envs/registration.py\", line 607, in make\n",
            "    _check_version_exists(ns, name, version)\n",
            "Process Process-13:\n",
            "Traceback (most recent call last):\n",
            "  File \"/usr/local/lib/python3.10/dist-packages/gym/envs/registration.py\", line 234, in _check_version_exists\n",
            "    _check_name_exists(ns, name)\n",
            "  File \"/usr/lib/python3.10/multiprocessing/process.py\", line 314, in _bootstrap\n",
            "    self.run()\n",
            "  File \"/usr/local/lib/python3.10/dist-packages/gym/envs/registration.py\", line 212, in _check_name_exists\n",
            "    raise error.NameNotFound(\n",
            "Process Process-14:\n",
            "  File \"/usr/lib/python3.10/multiprocessing/process.py\", line 108, in run\n",
            "    self._target(*self._args, **self._kwargs)\n",
            "Traceback (most recent call last):\n",
            "gym.error.NameNotFound: Environment BreakoutNoFrameskip doesn't exist. \n",
            "Process Process-15:\n",
            "  File \"/usr/local/lib/python3.10/dist-packages/labml_nn/rl/game.py\", line 143, in worker_process\n",
            "    game = Game(seed)\n",
            "Process Process-16:\n",
            "Traceback (most recent call last):\n",
            "  File \"/usr/local/lib/python3.10/dist-packages/labml_nn/rl/game.py\", line 40, in __init__\n",
            "    self.env = gym.make('BreakoutNoFrameskip-v4')\n",
            "  File \"/usr/local/lib/python3.10/dist-packages/gym/envs/registration.py\", line 607, in make\n",
            "    _check_version_exists(ns, name, version)\n",
            "Traceback (most recent call last):\n",
            "  File \"/usr/lib/python3.10/multiprocessing/process.py\", line 314, in _bootstrap\n",
            "    self.run()\n",
            "  File \"/usr/local/lib/python3.10/dist-packages/gym/envs/registration.py\", line 234, in _check_version_exists\n",
            "    _check_name_exists(ns, name)\n",
            "  File \"/usr/local/lib/python3.10/dist-packages/gym/envs/registration.py\", line 212, in _check_name_exists\n",
            "    raise error.NameNotFound(\n",
            "  File \"/usr/lib/python3.10/multiprocessing/process.py\", line 108, in run\n",
            "    self._target(*self._args, **self._kwargs)\n",
            "gym.error.NameNotFound: Environment BreakoutNoFrameskip doesn't exist. \n",
            "  File \"/usr/lib/python3.10/multiprocessing/process.py\", line 314, in _bootstrap\n",
            "    self.run()\n",
            "  File \"/usr/lib/python3.10/multiprocessing/process.py\", line 314, in _bootstrap\n",
            "    self.run()\n",
            "  File \"/usr/lib/python3.10/multiprocessing/process.py\", line 108, in run\n",
            "    self._target(*self._args, **self._kwargs)\n",
            "  File \"/usr/lib/python3.10/multiprocessing/process.py\", line 108, in run\n",
            "    self._target(*self._args, **self._kwargs)\n",
            "  File \"/usr/local/lib/python3.10/dist-packages/labml_nn/rl/game.py\", line 143, in worker_process\n",
            "    game = Game(seed)\n",
            "  File \"/usr/local/lib/python3.10/dist-packages/labml_nn/rl/game.py\", line 143, in worker_process\n",
            "    game = Game(seed)\n",
            "  File \"/usr/local/lib/python3.10/dist-packages/labml_nn/rl/game.py\", line 40, in __init__\n",
            "    self.env = gym.make('BreakoutNoFrameskip-v4')\n",
            "  File \"/usr/local/lib/python3.10/dist-packages/gym/envs/registration.py\", line 607, in make\n",
            "    _check_version_exists(ns, name, version)\n",
            "  File \"/usr/local/lib/python3.10/dist-packages/labml_nn/rl/game.py\", line 143, in worker_process\n",
            "    game = Game(seed)\n",
            "  File \"/usr/local/lib/python3.10/dist-packages/labml_nn/rl/game.py\", line 40, in __init__\n",
            "    self.env = gym.make('BreakoutNoFrameskip-v4')\n",
            "  File \"/usr/local/lib/python3.10/dist-packages/labml_nn/rl/game.py\", line 40, in __init__\n",
            "    self.env = gym.make('BreakoutNoFrameskip-v4')\n",
            "  File \"/usr/local/lib/python3.10/dist-packages/gym/envs/registration.py\", line 607, in make\n",
            "    _check_version_exists(ns, name, version)\n"
          ]
        },
        {
          "output_type": "error",
          "ename": "BrokenPipeError",
          "evalue": "ignored",
          "traceback": [
            "\u001b[0;31m---------------------------------------------------------------------------\u001b[0m",
            "\u001b[0;31mBrokenPipeError\u001b[0m                           Traceback (most recent call last)",
            "\u001b[0;32m<ipython-input-15-687b67b8f211>\u001b[0m in \u001b[0;36m<cell line: 1>\u001b[0;34m()\u001b[0m\n\u001b[0;32m----> 1\u001b[0;31m \u001b[0mtrainer\u001b[0m \u001b[0;34m=\u001b[0m \u001b[0mTrainer\u001b[0m\u001b[0;34m(\u001b[0m\u001b[0;34m**\u001b[0m\u001b[0mconfigs\u001b[0m\u001b[0;34m)\u001b[0m\u001b[0;34m\u001b[0m\u001b[0;34m\u001b[0m\u001b[0m\n\u001b[0m",
            "\u001b[0;32m/usr/local/lib/python3.10/dist-packages/labml_nn/rl/dqn/experiment.py\u001b[0m in \u001b[0;36m__init__\u001b[0;34m(self, updates, epochs, n_workers, worker_steps, mini_batch_size, update_target_model, learning_rate)\u001b[0m\n\u001b[1;32m     97\u001b[0m         \u001b[0;31m# reset the workers\u001b[0m\u001b[0;34m\u001b[0m\u001b[0;34m\u001b[0m\u001b[0m\n\u001b[1;32m     98\u001b[0m         \u001b[0;32mfor\u001b[0m \u001b[0mworker\u001b[0m \u001b[0;32min\u001b[0m \u001b[0mself\u001b[0m\u001b[0;34m.\u001b[0m\u001b[0mworkers\u001b[0m\u001b[0;34m:\u001b[0m\u001b[0;34m\u001b[0m\u001b[0;34m\u001b[0m\u001b[0m\n\u001b[0;32m---> 99\u001b[0;31m             \u001b[0mworker\u001b[0m\u001b[0;34m.\u001b[0m\u001b[0mchild\u001b[0m\u001b[0;34m.\u001b[0m\u001b[0msend\u001b[0m\u001b[0;34m(\u001b[0m\u001b[0;34m(\u001b[0m\u001b[0;34m\"reset\"\u001b[0m\u001b[0;34m,\u001b[0m \u001b[0;32mNone\u001b[0m\u001b[0;34m)\u001b[0m\u001b[0;34m)\u001b[0m\u001b[0;34m\u001b[0m\u001b[0;34m\u001b[0m\u001b[0m\n\u001b[0m\u001b[1;32m    100\u001b[0m \u001b[0;34m\u001b[0m\u001b[0m\n\u001b[1;32m    101\u001b[0m         \u001b[0;31m# get the initial observations\u001b[0m\u001b[0;34m\u001b[0m\u001b[0;34m\u001b[0m\u001b[0m\n",
            "\u001b[0;32m/usr/lib/python3.10/multiprocessing/connection.py\u001b[0m in \u001b[0;36msend\u001b[0;34m(self, obj)\u001b[0m\n\u001b[1;32m    204\u001b[0m         \u001b[0mself\u001b[0m\u001b[0;34m.\u001b[0m\u001b[0m_check_closed\u001b[0m\u001b[0;34m(\u001b[0m\u001b[0;34m)\u001b[0m\u001b[0;34m\u001b[0m\u001b[0;34m\u001b[0m\u001b[0m\n\u001b[1;32m    205\u001b[0m         \u001b[0mself\u001b[0m\u001b[0;34m.\u001b[0m\u001b[0m_check_writable\u001b[0m\u001b[0;34m(\u001b[0m\u001b[0;34m)\u001b[0m\u001b[0;34m\u001b[0m\u001b[0;34m\u001b[0m\u001b[0m\n\u001b[0;32m--> 206\u001b[0;31m         \u001b[0mself\u001b[0m\u001b[0;34m.\u001b[0m\u001b[0m_send_bytes\u001b[0m\u001b[0;34m(\u001b[0m\u001b[0m_ForkingPickler\u001b[0m\u001b[0;34m.\u001b[0m\u001b[0mdumps\u001b[0m\u001b[0;34m(\u001b[0m\u001b[0mobj\u001b[0m\u001b[0;34m)\u001b[0m\u001b[0;34m)\u001b[0m\u001b[0;34m\u001b[0m\u001b[0;34m\u001b[0m\u001b[0m\n\u001b[0m\u001b[1;32m    207\u001b[0m \u001b[0;34m\u001b[0m\u001b[0m\n\u001b[1;32m    208\u001b[0m     \u001b[0;32mdef\u001b[0m \u001b[0mrecv_bytes\u001b[0m\u001b[0;34m(\u001b[0m\u001b[0mself\u001b[0m\u001b[0;34m,\u001b[0m \u001b[0mmaxlength\u001b[0m\u001b[0;34m=\u001b[0m\u001b[0;32mNone\u001b[0m\u001b[0;34m)\u001b[0m\u001b[0;34m:\u001b[0m\u001b[0;34m\u001b[0m\u001b[0;34m\u001b[0m\u001b[0m\n",
            "\u001b[0;32m/usr/lib/python3.10/multiprocessing/connection.py\u001b[0m in \u001b[0;36m_send_bytes\u001b[0;34m(self, buf)\u001b[0m\n\u001b[1;32m    409\u001b[0m                 \u001b[0;31m# Also note we want to avoid sending a 0-length buffer separately,\u001b[0m\u001b[0;34m\u001b[0m\u001b[0;34m\u001b[0m\u001b[0m\n\u001b[1;32m    410\u001b[0m                 \u001b[0;31m# to avoid \"broken pipe\" errors if the other end closed the pipe.\u001b[0m\u001b[0;34m\u001b[0m\u001b[0;34m\u001b[0m\u001b[0m\n\u001b[0;32m--> 411\u001b[0;31m                 \u001b[0mself\u001b[0m\u001b[0;34m.\u001b[0m\u001b[0m_send\u001b[0m\u001b[0;34m(\u001b[0m\u001b[0mheader\u001b[0m \u001b[0;34m+\u001b[0m \u001b[0mbuf\u001b[0m\u001b[0;34m)\u001b[0m\u001b[0;34m\u001b[0m\u001b[0;34m\u001b[0m\u001b[0m\n\u001b[0m\u001b[1;32m    412\u001b[0m \u001b[0;34m\u001b[0m\u001b[0m\n\u001b[1;32m    413\u001b[0m     \u001b[0;32mdef\u001b[0m \u001b[0m_recv_bytes\u001b[0m\u001b[0;34m(\u001b[0m\u001b[0mself\u001b[0m\u001b[0;34m,\u001b[0m \u001b[0mmaxsize\u001b[0m\u001b[0;34m=\u001b[0m\u001b[0;32mNone\u001b[0m\u001b[0;34m)\u001b[0m\u001b[0;34m:\u001b[0m\u001b[0;34m\u001b[0m\u001b[0;34m\u001b[0m\u001b[0m\n",
            "\u001b[0;32m/usr/lib/python3.10/multiprocessing/connection.py\u001b[0m in \u001b[0;36m_send\u001b[0;34m(self, buf, write)\u001b[0m\n\u001b[1;32m    366\u001b[0m         \u001b[0mremaining\u001b[0m \u001b[0;34m=\u001b[0m \u001b[0mlen\u001b[0m\u001b[0;34m(\u001b[0m\u001b[0mbuf\u001b[0m\u001b[0;34m)\u001b[0m\u001b[0;34m\u001b[0m\u001b[0;34m\u001b[0m\u001b[0m\n\u001b[1;32m    367\u001b[0m         \u001b[0;32mwhile\u001b[0m \u001b[0;32mTrue\u001b[0m\u001b[0;34m:\u001b[0m\u001b[0;34m\u001b[0m\u001b[0;34m\u001b[0m\u001b[0m\n\u001b[0;32m--> 368\u001b[0;31m             \u001b[0mn\u001b[0m \u001b[0;34m=\u001b[0m \u001b[0mwrite\u001b[0m\u001b[0;34m(\u001b[0m\u001b[0mself\u001b[0m\u001b[0;34m.\u001b[0m\u001b[0m_handle\u001b[0m\u001b[0;34m,\u001b[0m \u001b[0mbuf\u001b[0m\u001b[0;34m)\u001b[0m\u001b[0;34m\u001b[0m\u001b[0;34m\u001b[0m\u001b[0m\n\u001b[0m\u001b[1;32m    369\u001b[0m             \u001b[0mremaining\u001b[0m \u001b[0;34m-=\u001b[0m \u001b[0mn\u001b[0m\u001b[0;34m\u001b[0m\u001b[0;34m\u001b[0m\u001b[0m\n\u001b[1;32m    370\u001b[0m             \u001b[0;32mif\u001b[0m \u001b[0mremaining\u001b[0m \u001b[0;34m==\u001b[0m \u001b[0;36m0\u001b[0m\u001b[0;34m:\u001b[0m\u001b[0;34m\u001b[0m\u001b[0;34m\u001b[0m\u001b[0m\n",
            "\u001b[0;31mBrokenPipeError\u001b[0m: [Errno 32] Broken pipe"
          ]
        },
        {
          "output_type": "stream",
          "name": "stderr",
          "text": [
            "  File \"/usr/local/lib/python3.10/dist-packages/gym/envs/registration.py\", line 234, in _check_version_exists\n",
            "    _check_name_exists(ns, name)\n",
            "  File \"/usr/local/lib/python3.10/dist-packages/gym/envs/registration.py\", line 234, in _check_version_exists\n",
            "    _check_name_exists(ns, name)\n",
            "  File \"/usr/local/lib/python3.10/dist-packages/gym/envs/registration.py\", line 607, in make\n",
            "    _check_version_exists(ns, name, version)\n",
            "  File \"/usr/local/lib/python3.10/dist-packages/gym/envs/registration.py\", line 212, in _check_name_exists\n",
            "    raise error.NameNotFound(\n",
            "  File \"/usr/local/lib/python3.10/dist-packages/gym/envs/registration.py\", line 212, in _check_name_exists\n",
            "    raise error.NameNotFound(\n",
            "gym.error.NameNotFound: Environment BreakoutNoFrameskip doesn't exist. \n",
            "gym.error.NameNotFound: Environment BreakoutNoFrameskip doesn't exist. \n",
            "  File \"/usr/local/lib/python3.10/dist-packages/gym/envs/registration.py\", line 234, in _check_version_exists\n",
            "    _check_name_exists(ns, name)\n",
            "  File \"/usr/local/lib/python3.10/dist-packages/gym/envs/registration.py\", line 212, in _check_name_exists\n",
            "    raise error.NameNotFound(\n",
            "gym.error.NameNotFound: Environment BreakoutNoFrameskip doesn't exist. \n"
          ]
        }
      ],
      "source": [
        "trainer = Trainer(**configs)"
      ]
    },
    {
      "cell_type": "markdown",
      "metadata": {
        "id": "KJZRf8527GxL"
      },
      "source": [
        "Start the experiment and run the training loop."
      ]
    },
    {
      "cell_type": "code",
      "execution_count": null,
      "metadata": {
        "id": "aIAWo7Fw5DR8"
      },
      "outputs": [],
      "source": [
        "with experiment.start():\n",
        "    trainer.run_training_loop()"
      ]
    }
  ],
  "metadata": {
    "accelerator": "GPU",
    "colab": {
      "name": "Deep Q Networks (DQN)",
      "provenance": [],
      "gpuType": "T4"
    },
    "kernelspec": {
      "display_name": "Python 3",
      "name": "python3"
    },
    "language_info": {
      "codemirror_mode": {
        "name": "ipython",
        "version": 3
      },
      "file_extension": ".py",
      "mimetype": "text/x-python",
      "name": "python",
      "nbconvert_exporter": "python",
      "pygments_lexer": "ipython3",
      "version": "3.7.5"
    }
  },
  "nbformat": 4,
  "nbformat_minor": 0
}