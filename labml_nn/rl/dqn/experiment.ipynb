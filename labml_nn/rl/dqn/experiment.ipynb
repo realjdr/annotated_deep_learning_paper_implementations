{
  "cells": [
    {
      "cell_type": "markdown",
      "metadata": {
        "id": "AYV_dMVDxyc2"
      },
      "source": [
        "[![Github](https://img.shields.io/github/stars/labmlai/annotated_deep_learning_paper_implementations?style=social)](https://github.com/labmlai/annotated_deep_learning_paper_implementations)\n",
        "[![Open In Colab](https://colab.research.google.com/assets/colab-badge.svg)](https://colab.research.google.com/github/labmlai/annotated_deep_learning_paper_implementations/blob/master/labml_nn/rl/dqn/experiment.ipynb)                    \n",
        "\n",
        "## Deep Q Networks (DQN)\n",
        "\n",
        "This is an experiment training an agent to play Atari Breakout game using Deep Q Networks (DQN)"
      ]
    },
    {
      "cell_type": "markdown",
      "metadata": {
        "id": "AahG_i2y5tY9"
      },
      "source": [
        "Install the `labml-nn` package"
      ]
    },
    {
      "cell_type": "markdown",
      "source": [],
      "metadata": {
        "id": "HplyNgP4bpKZ"
      }
    },
    {
      "cell_type": "code",
      "execution_count": null,
      "metadata": {
        "colab": {
          "base_uri": "https://localhost:8080/"
        },
        "id": "ZCzmCrAIVg0L",
        "outputId": "e0151c81-923e-4390-ec1f-dfdef9877a29"
      },
      "outputs": [
        {
          "output_type": "stream",
          "name": "stdout",
          "text": [
            "Looking in indexes: https://pypi.org/simple, https://us-python.pkg.dev/colab-wheels/public/simple/\n",
            "Requirement already satisfied: labml-nn in /usr/local/lib/python3.10/dist-packages (0.4.133)\n",
            "Requirement already satisfied: labml>=0.4.158 in /usr/local/lib/python3.10/dist-packages (from labml-nn) (0.4.162)\n",
            "Requirement already satisfied: labml-helpers>=0.4.89 in /usr/local/lib/python3.10/dist-packages (from labml-nn) (0.4.89)\n",
            "Requirement already satisfied: torch in /usr/local/lib/python3.10/dist-packages (from labml-nn) (2.0.1+cu118)\n",
            "Requirement already satisfied: torchtext in /usr/local/lib/python3.10/dist-packages (from labml-nn) (0.15.2)\n",
            "Requirement already satisfied: torchvision in /usr/local/lib/python3.10/dist-packages (from labml-nn) (0.15.2+cu118)\n",
            "Requirement already satisfied: einops in /usr/local/lib/python3.10/dist-packages (from labml-nn) (0.6.1)\n",
            "Requirement already satisfied: numpy in /usr/local/lib/python3.10/dist-packages (from labml-nn) (1.22.4)\n",
            "Requirement already satisfied: fairscale in /usr/local/lib/python3.10/dist-packages (from labml-nn) (0.4.13)\n",
            "Requirement already satisfied: gitpython in /usr/local/lib/python3.10/dist-packages (from labml>=0.4.158->labml-nn) (3.1.31)\n",
            "Requirement already satisfied: pyyaml in /usr/local/lib/python3.10/dist-packages (from labml>=0.4.158->labml-nn) (6.0)\n",
            "Requirement already satisfied: filelock in /usr/local/lib/python3.10/dist-packages (from torch->labml-nn) (3.12.0)\n",
            "Requirement already satisfied: typing-extensions in /usr/local/lib/python3.10/dist-packages (from torch->labml-nn) (4.5.0)\n",
            "Requirement already satisfied: sympy in /usr/local/lib/python3.10/dist-packages (from torch->labml-nn) (1.11.1)\n",
            "Requirement already satisfied: networkx in /usr/local/lib/python3.10/dist-packages (from torch->labml-nn) (3.1)\n",
            "Requirement already satisfied: jinja2 in /usr/local/lib/python3.10/dist-packages (from torch->labml-nn) (3.1.2)\n",
            "Requirement already satisfied: triton==2.0.0 in /usr/local/lib/python3.10/dist-packages (from torch->labml-nn) (2.0.0)\n",
            "Requirement already satisfied: cmake in /usr/local/lib/python3.10/dist-packages (from triton==2.0.0->torch->labml-nn) (3.25.2)\n",
            "Requirement already satisfied: lit in /usr/local/lib/python3.10/dist-packages (from triton==2.0.0->torch->labml-nn) (16.0.5)\n",
            "Requirement already satisfied: tqdm in /usr/local/lib/python3.10/dist-packages (from torchtext->labml-nn) (4.65.0)\n",
            "Requirement already satisfied: requests in /usr/local/lib/python3.10/dist-packages (from torchtext->labml-nn) (2.27.1)\n",
            "Requirement already satisfied: torchdata==0.6.1 in /usr/local/lib/python3.10/dist-packages (from torchtext->labml-nn) (0.6.1)\n",
            "Requirement already satisfied: urllib3>=1.25 in /usr/local/lib/python3.10/dist-packages (from torchdata==0.6.1->torchtext->labml-nn) (1.26.15)\n",
            "Requirement already satisfied: pillow!=8.3.*,>=5.3.0 in /usr/local/lib/python3.10/dist-packages (from torchvision->labml-nn) (8.4.0)\n",
            "Requirement already satisfied: gitdb<5,>=4.0.1 in /usr/local/lib/python3.10/dist-packages (from gitpython->labml>=0.4.158->labml-nn) (4.0.10)\n",
            "Requirement already satisfied: MarkupSafe>=2.0 in /usr/local/lib/python3.10/dist-packages (from jinja2->torch->labml-nn) (2.1.2)\n",
            "Requirement already satisfied: certifi>=2017.4.17 in /usr/local/lib/python3.10/dist-packages (from requests->torchtext->labml-nn) (2022.12.7)\n",
            "Requirement already satisfied: charset-normalizer~=2.0.0 in /usr/local/lib/python3.10/dist-packages (from requests->torchtext->labml-nn) (2.0.12)\n",
            "Requirement already satisfied: idna<4,>=2.5 in /usr/local/lib/python3.10/dist-packages (from requests->torchtext->labml-nn) (3.4)\n",
            "Requirement already satisfied: mpmath>=0.19 in /usr/local/lib/python3.10/dist-packages (from sympy->torch->labml-nn) (1.3.0)\n",
            "Requirement already satisfied: smmap<6,>=3.0.1 in /usr/local/lib/python3.10/dist-packages (from gitdb<5,>=4.0.1->gitpython->labml>=0.4.158->labml-nn) (5.0.0)\n"
          ]
        }
      ],
      "source": [
        "! pip install labml-nn\n",
        "! pip install atari-py\n",
        "! pip install gym[atari]\n",
        "! pip install autorom[accept-rom-license]"
      ]
    },
    {
      "cell_type": "markdown",
      "metadata": {
        "id": "3-G5kplRFmsO"
      },
      "source": [
        "Add Atari ROMs (Doesn't work without this in Google Colab)"
      ]
    },
    {
      "cell_type": "code",
      "execution_count": null,
      "metadata": {
        "id": "SByhklD1FlSj"
      },
      "outputs": [],
      "source": [
        "# ! wget http://www.atarimania.com/roms/Roms.rar\n",
        "# ! mkdir /content/ROM/\n",
        "# ! unrar e /content/Roms.rar /content/ROM/\n",
        "\n",
        "# when greeted with [Y] for Yes [N] for No hit pause on this codebox "
      ]
    },
    {
      "cell_type": "markdown",
      "metadata": {
        "id": "SE2VUQ6L5zxI"
      },
      "source": [
        "Imports"
      ]
    },
    {
      "cell_type": "code",
      "source": [
        "! python -m atari_py.import_roms /content/ROM/"
      ],
      "metadata": {
        "id": "U5YLzyh1MTnR"
      },
      "execution_count": null,
      "outputs": []
    },
    {
      "cell_type": "code",
      "execution_count": null,
      "metadata": {
        "id": "0hJXx_g0wS2C"
      },
      "outputs": [],
      "source": [
        "from labml import experiment\n",
        "from labml.configs import FloatDynamicHyperParam\n",
        "from labml_nn.rl.dqn.experiment import Trainer"
      ]
    },
    {
      "cell_type": "markdown",
      "metadata": {
        "id": "Lpggo0wM6qb-"
      },
      "source": [
        "Create an experiment"
      ]
    },
    {
      "cell_type": "code",
      "execution_count": null,
      "metadata": {
        "id": "bFcr9k-l4cAg"
      },
      "outputs": [],
      "source": [
        "experiment.create(name=\"dqn\")"
      ]
    },
    {
      "cell_type": "markdown",
      "metadata": {
        "id": "Hw6uVl1_GaPv"
      },
      "source": [
        "### Configurations\n",
        "\n",
        "`FloatDynamicHyperParam` is a dynamic hyper-parameter\n",
        "that you can change while the experiment is running."
      ]
    },
    {
      "cell_type": "code",
      "execution_count": null,
      "metadata": {
        "id": "L8bUtLD6GksC"
      },
      "outputs": [],
      "source": [
        "configs = {\n",
        "    # Number of updates\n",
        "    'updates': 1_000_000,\n",
        "    # Number of epochs to train the model with sampled data.\n",
        "    'epochs': 8,\n",
        "    # Number of worker processes\n",
        "    'n_workers': 8,\n",
        "    # Number of steps to run on each process for a single update\n",
        "    'worker_steps': 4,\n",
        "    # Mini batch size\n",
        "    'mini_batch_size': 32,\n",
        "    # Target model updating interval\n",
        "    'update_target_model': 250,\n",
        "    # Learning rate.\n",
        "    'learning_rate': FloatDynamicHyperParam(1e-4, (0, 1e-3)),\n",
        "}"
      ]
    },
    {
      "cell_type": "markdown",
      "metadata": {
        "id": "zn7nSEuWK4Ke"
      },
      "source": [
        "Set experiment configurations"
      ]
    },
    {
      "cell_type": "code",
      "execution_count": null,
      "metadata": {
        "id": "FQo5f1HlK4Ke"
      },
      "outputs": [],
      "source": [
        "experiment.configs(configs)"
      ]
    },
    {
      "cell_type": "markdown",
      "metadata": {
        "id": "qYQCFt_JYsjd"
      },
      "source": [
        "Create trainer"
      ]
    },
    {
      "cell_type": "code",
      "execution_count": null,
      "metadata": {
        "id": "8LB7XVViYuPG"
      },
      "outputs": [],
      "source": [
        "trainer = Trainer(**configs)"
      ]
    },
    {
      "cell_type": "markdown",
      "metadata": {
        "id": "KJZRf8527GxL"
      },
      "source": [
        "Start the experiment and run the training loop."
      ]
    },
    {
      "cell_type": "code",
      "execution_count": null,
      "metadata": {
        "id": "aIAWo7Fw5DR8"
      },
      "outputs": [],
      "source": [
        "with experiment.start():\n",
        "    trainer.run_training_loop()"
      ]
    }
  ],
  "metadata": {
    "accelerator": "GPU",
    "colab": {
      "name": "Deep Q Networks (DQN)",
      "provenance": [],
      "gpuType": "T4"
    },
    "kernelspec": {
      "display_name": "Python 3",
      "name": "python3"
    },
    "language_info": {
      "codemirror_mode": {
        "name": "ipython",
        "version": 3
      },
      "file_extension": ".py",
      "mimetype": "text/x-python",
      "name": "python",
      "nbconvert_exporter": "python",
      "pygments_lexer": "ipython3",
      "version": "3.7.5"
    }
  },
  "nbformat": 4,
  "nbformat_minor": 0
}